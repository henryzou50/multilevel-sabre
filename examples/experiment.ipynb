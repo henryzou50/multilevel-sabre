{
 "cells": [
  {
   "cell_type": "markdown",
   "id": "72d1a0e8",
   "metadata": {},
   "source": [
    "# Setup setting and seed"
   ]
  },
  {
   "cell_type": "code",
   "execution_count": 1,
   "id": "641c6cba",
   "metadata": {},
   "outputs": [],
   "source": [
    "from multilevel_sabre import MultiLevelSabre\n",
    "from pathlib import Path\n",
    "from typing import Dict, List, Iterable\n",
    "from qiskit import QuantumCircuit\n",
    "from qiskit.transpiler.preset_passmanagers import generate_preset_pass_manager\n",
    "from qiskit.transpiler.passes import SabreLayout\n",
    "from qiskit.transpiler import CouplingMap, PassManager\n",
    "from IPython.display import display\n",
    "import json\n",
    "import time\n",
    "\n",
    "\n",
    "seed = 42"
   ]
  },
  {
   "cell_type": "markdown",
   "id": "8618bd44",
   "metadata": {},
   "source": [
    "# Setup circuits"
   ]
  },
  {
   "cell_type": "code",
   "execution_count": 2,
   "id": "6b3b2c99",
   "metadata": {},
   "outputs": [
    {
     "name": "stdout",
     "output_type": "stream",
     "text": [
      "Found 7 .qasm files in circuits_iso/\n"
     ]
    }
   ],
   "source": [
    "def gather_qasm_files(paths: Iterable[str]) -> List[Path]:\n",
    "    \"\"\"Expand a list of files/dirs into a sorted list of .qasm files.\"\"\"\n",
    "    result: List[Path] = []\n",
    "    for p in paths:\n",
    "        path = Path(p)\n",
    "        if path.is_dir():\n",
    "            result.extend(sorted(path.glob(\"*.qasm\")))\n",
    "        elif path.is_file() and path.suffix.lower() == \".qasm\":\n",
    "            result.append(path)\n",
    "        else:\n",
    "            print(f\"Skipping {p}: not a .qasm file or directory.\")\n",
    "    return sorted(set(result))\n",
    "\n",
    "filepath = \"circuits_iso/\"\n",
    "qasm_files = gather_qasm_files([filepath])\n",
    "print(f\"Found {len(qasm_files)} .qasm files in {filepath}\")"
   ]
  },
  {
   "cell_type": "code",
   "execution_count": 3,
   "id": "aabd0a61",
   "metadata": {},
   "outputs": [
    {
     "name": "stdout",
     "output_type": "stream",
     "text": [
      "Visualizing cat_n65.qasm with 65 qubits and 130 gates\n",
      "Visualizing dnn_n51.qasm with 51 qubits and 274 gates\n",
      "Visualizing ghz_n78.qasm with 78 qubits and 156 gates\n",
      "Visualizing ising_n98.qasm with 98 qubits and 1170 gates\n",
      "Visualizing knn_67.qasm with 67 qubits and 102 gates\n",
      "Visualizing multiplier_n45.qasm with 45 qubits and 698 gates\n",
      "Visualizing swap_test_n83.qasm with 83 qubits and 126 gates\n"
     ]
    }
   ],
   "source": [
    "circuits_dict = {}\n",
    "for q in qasm_files:\n",
    "    circuit = QuantumCircuit.from_qasm_file(q)\n",
    "    print(f\"Visualizing {q.name} with {circuit.num_qubits} qubits and {circuit.size()} gates\")\n",
    "    #display(circuit.draw('mpl', idle_wires=False, fold=-1))\n",
    "    circuits_dict[q.name] = circuit\n"
   ]
  },
  {
   "cell_type": "code",
   "execution_count": 4,
   "id": "0857fac1",
   "metadata": {},
   "outputs": [
    {
     "data": {
      "text/plain": [
       "{'cat_n65.qasm': <qiskit.circuit.quantumcircuit.QuantumCircuit at 0x116aa8550>,\n",
       " 'dnn_n51.qasm': <qiskit.circuit.quantumcircuit.QuantumCircuit at 0x111a12d50>,\n",
       " 'ghz_n78.qasm': <qiskit.circuit.quantumcircuit.QuantumCircuit at 0x116a7f4d0>,\n",
       " 'ising_n98.qasm': <qiskit.circuit.quantumcircuit.QuantumCircuit at 0x1202a8e50>,\n",
       " 'knn_67.qasm': <qiskit.circuit.quantumcircuit.QuantumCircuit at 0x1202b8a50>,\n",
       " 'multiplier_n45.qasm': <qiskit.circuit.quantumcircuit.QuantumCircuit at 0x1160d1d10>,\n",
       " 'swap_test_n83.qasm': <qiskit.circuit.quantumcircuit.QuantumCircuit at 0x116ab92d0>}"
      ]
     },
     "execution_count": 4,
     "metadata": {},
     "output_type": "execute_result"
    }
   ],
   "source": [
    "circuits_dict"
   ]
  },
  {
   "cell_type": "code",
   "execution_count": 5,
   "id": "3a3e8424",
   "metadata": {},
   "outputs": [],
   "source": [
    "qc_name = \"cat_n65.qasm\""
   ]
  },
  {
   "cell_type": "markdown",
   "id": "4cf8d709",
   "metadata": {},
   "source": [
    "# Setup coupling map"
   ]
  },
  {
   "cell_type": "code",
   "execution_count": 6,
   "id": "0ed424b3",
   "metadata": {},
   "outputs": [
    {
     "name": "stdout",
     "output_type": "stream",
     "text": [
      "Number of qubits: 127\n"
     ]
    }
   ],
   "source": [
    "from qiskit_ibm_runtime.fake_provider.backends.sherbrooke import FakeSherbrooke\n",
    "fake_backend = FakeSherbrooke()\n",
    "coupling_map = fake_backend.coupling_map   \n",
    "coupling_map.make_symmetric()\n",
    "print(f\"Number of qubits: {coupling_map.size()}\")\n",
    "# coupling_map.draw()\n"
   ]
  },
  {
   "cell_type": "markdown",
   "id": "f3308762",
   "metadata": {},
   "source": [
    "# Setup Passmangers"
   ]
  },
  {
   "cell_type": "code",
   "execution_count": 7,
   "id": "931fd2dc",
   "metadata": {},
   "outputs": [
    {
     "name": "stdout",
     "output_type": "stream",
     "text": [
      "Stop reason: None\n"
     ]
    }
   ],
   "source": [
    "from qiskit.transpiler.passes.layout import VF2Layout\n",
    "from qiskit.transpiler.passes.basis  import Unroll3qOrMore\n",
    "number_of_trial = 2500\n",
    "\n",
    "\n",
    "vf2_layout = VF2Layout(\n",
    "    coupling_map = coupling_map, \n",
    "    seed = seed, \n",
    ")\n",
    "pm_sabre = PassManager([\n",
    "    Unroll3qOrMore(),\n",
    "    vf2_layout,\n",
    "    SabreLayout(\n",
    "        coupling_map = coupling_map, \n",
    "        seed = seed, \n",
    "        layout_trials=number_of_trial, \n",
    "        skip_routing=False)\n",
    "])\n",
    "\n",
    "print(f\"Stop reason: {vf2_layout.property_set['VF2Layout_stop_reason']}\")"
   ]
  },
  {
   "cell_type": "markdown",
   "id": "d464f0b0",
   "metadata": {},
   "source": [
    "# Transpile circuit"
   ]
  },
  {
   "cell_type": "code",
   "execution_count": 8,
   "id": "8460c0d3",
   "metadata": {},
   "outputs": [],
   "source": [
    "def count_swaps(circuit):\n",
    "    return sum(1 for instruction in circuit.data if instruction.operation.name == 'swap')"
   ]
  },
  {
   "cell_type": "code",
   "execution_count": 9,
   "id": "95604667",
   "metadata": {},
   "outputs": [
    {
     "name": "stdout",
     "output_type": "stream",
     "text": [
      "Number of SWAPs (sabre): 14\n",
      "2Q Depth (sabre): 78\n",
      "\n",
      "Stop reason: VF2LayoutStopReason.SOLUTION_FOUND\n"
     ]
    }
   ],
   "source": [
    "\n",
    "# Sabre pass manager\n",
    "qc_tr_sabre = pm_sabre.run(circuits_dict[qc_name])\n",
    "print(f\"Number of SWAPs (sabre): {count_swaps(qc_tr_sabre)}\")\n",
    "print(f\"2Q Depth (sabre): {qc_tr_sabre.depth(lambda x: x.operation.num_qubits == 2)}\\n\")\n",
    "print(f\"Stop reason: {vf2_layout.property_set['VF2Layout_stop_reason']}\")\n"
   ]
  },
  {
   "cell_type": "code",
   "execution_count": 10,
   "id": "b1974db5",
   "metadata": {},
   "outputs": [
    {
     "name": "stdout",
     "output_type": "stream",
     "text": [
      "Transpiling cat_n65.qasm with 65 qubits and 130 gates\n",
      "Number of SWAPs (sabre): 14\n",
      "2Q Depth (sabre): 78\n",
      "Stop reason: VF2LayoutStopReason.SOLUTION_FOUND\n",
      "\n",
      "Transpiling dnn_n51.qasm with 51 qubits and 274 gates\n",
      "Number of SWAPs (sabre): 131\n",
      "2Q Depth (sabre): 208\n",
      "Stop reason: VF2LayoutStopReason.NO_SOLUTION_FOUND\n",
      "\n",
      "Transpiling ghz_n78.qasm with 78 qubits and 156 gates\n",
      "Number of SWAPs (sabre): 16\n",
      "2Q Depth (sabre): 93\n",
      "Stop reason: VF2LayoutStopReason.SOLUTION_FOUND\n",
      "\n",
      "Transpiling ising_n98.qasm with 98 qubits and 1170 gates\n",
      "Number of SWAPs (sabre): 17\n",
      "2Q Depth (sabre): 10\n",
      "Stop reason: VF2LayoutStopReason.SOLUTION_FOUND\n",
      "\n",
      "Transpiling knn_67.qasm with 67 qubits and 102 gates\n",
      "Number of SWAPs (sabre): 106\n",
      "2Q Depth (sabre): 262\n",
      "Stop reason: VF2LayoutStopReason.NO_SOLUTION_FOUND\n",
      "\n",
      "Transpiling multiplier_n45.qasm with 45 qubits and 698 gates\n",
      "Number of SWAPs (sabre): 1613\n",
      "2Q Depth (sabre): 2364\n",
      "Stop reason: VF2LayoutStopReason.NO_SOLUTION_FOUND\n",
      "\n",
      "Transpiling swap_test_n83.qasm with 83 qubits and 126 gates\n",
      "Number of SWAPs (sabre): 142\n",
      "2Q Depth (sabre): 335\n",
      "Stop reason: VF2LayoutStopReason.NO_SOLUTION_FOUND\n",
      "\n"
     ]
    }
   ],
   "source": [
    "# transpile all of the circuits\n",
    "for qc_name, qc in circuits_dict.items():\n",
    "    print(f\"Transpiling {qc_name} with {qc.num_qubits} qubits and {qc.size()} gates\")\n",
    "    \n",
    "    qc_tr_sabre = pm_sabre.run(circuits_dict[qc_name])\n",
    "    print(f\"Number of SWAPs (sabre): {count_swaps(qc_tr_sabre)}\")\n",
    "    print(f\"2Q Depth (sabre): {qc_tr_sabre.depth(lambda x: x.operation.num_qubits == 2)}\")\n",
    "    print(f\"Stop reason: {vf2_layout.property_set['VF2Layout_stop_reason']}\\n\")"
   ]
  }
 ],
 "metadata": {
  "kernelspec": {
   "display_name": "routing",
   "language": "python",
   "name": "python3"
  },
  "language_info": {
   "codemirror_mode": {
    "name": "ipython",
    "version": 3
   },
   "file_extension": ".py",
   "mimetype": "text/x-python",
   "name": "python",
   "nbconvert_exporter": "python",
   "pygments_lexer": "ipython3",
   "version": "3.11.4"
  }
 },
 "nbformat": 4,
 "nbformat_minor": 5
}
