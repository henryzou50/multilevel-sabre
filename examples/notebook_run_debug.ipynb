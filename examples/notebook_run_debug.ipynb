{
 "cells": [
  {
   "cell_type": "markdown",
   "id": "ec235534",
   "metadata": {},
   "source": [
    "Setup"
   ]
  },
  {
   "cell_type": "code",
   "execution_count": 1,
   "id": "cfd3c166",
   "metadata": {},
   "outputs": [],
   "source": [
    "import time\n",
    "import argparse\n",
    "import json\n",
    "import csv\n",
    "\n",
    "from qiskit import QuantumCircuit\n",
    "from qiskit.transpiler import CouplingMap, PassManager\n",
    "from pathlib import Path\n",
    "from typing import Dict, List, Iterable\n",
    "from util import EAGLE_COUPLING, sabre, count_swaps \n",
    "from multilevel_sabre import MultiLevelSabre\n",
    "from qiskit.transpiler.preset_passmanagers import generate_preset_pass_manager"
   ]
  },
  {
   "cell_type": "markdown",
   "id": "5a36a508",
   "metadata": {},
   "source": [
    "Coupling map"
   ]
  },
  {
   "cell_type": "code",
   "execution_count": 2,
   "id": "a4685eac",
   "metadata": {},
   "outputs": [],
   "source": [
    "from util import EAGLE_COUPLING\n",
    "\n",
    "coupling_map = CouplingMap(couplinglist=EAGLE_COUPLING)\n",
    "coupling_map.make_symmetric()\n",
    "#coupling_map.draw()"
   ]
  },
  {
   "cell_type": "markdown",
   "id": "1ba0668c",
   "metadata": {},
   "source": [
    "Select circuits"
   ]
  },
  {
   "cell_type": "code",
   "execution_count": 3,
   "id": "bbf7d4a8",
   "metadata": {},
   "outputs": [
    {
     "name": "stdout",
     "output_type": "stream",
     "text": [
      "Found 7 circuit files.\n"
     ]
    }
   ],
   "source": [
    "directory = \"circuits_no_swaps/\"\n",
    "result_path = Path(\"results/comparison_no_swaps.csv\")\n",
    "circuit_files = []\n",
    "for file in Path(directory).glob(\"*.qasm\"):\n",
    "    circuit_files.append(file)\n",
    "print(f\"Found {len(circuit_files)} circuit files.\")    "
   ]
  },
  {
   "cell_type": "markdown",
   "id": "f0eb1955",
   "metadata": {},
   "source": [
    "Setup"
   ]
  },
  {
   "cell_type": "code",
   "execution_count": 4,
   "id": "c710e2c3",
   "metadata": {},
   "outputs": [],
   "source": [
    "random_seed = 1"
   ]
  },
  {
   "cell_type": "code",
   "execution_count": 5,
   "id": "0411bc48",
   "metadata": {},
   "outputs": [],
   "source": [
    "qasm_file = circuit_files[2]\n",
    "qc = QuantumCircuit.from_qasm_file(qasm_file)"
   ]
  },
  {
   "cell_type": "code",
   "execution_count": 6,
   "id": "32060003",
   "metadata": {},
   "outputs": [],
   "source": [
    "pm = generate_preset_pass_manager(optimization_level=3, coupling_map=coupling_map, seed_transpiler=random_seed)"
   ]
  },
  {
   "cell_type": "code",
   "execution_count": 7,
   "id": "26e24052",
   "metadata": {},
   "outputs": [],
   "source": [
    "qc_tr = pm.run(qc)"
   ]
  },
  {
   "cell_type": "code",
   "execution_count": 8,
   "id": "391ab195",
   "metadata": {},
   "outputs": [],
   "source": [
    "def count_swaps(circuit):\n",
    "    \"\"\"Count the number of SWAP gates in a circuit.\n",
    "    \n",
    "    Args:\n",
    "        circuit (QuantumCircuit): The circuit to count SWAPs in\n",
    "        \n",
    "    Returns:\n",
    "        int: Number of SWAP gates in the circuit\n",
    "    \"\"\"\n",
    "    return sum(1 for instruction in circuit.data if instruction.operation.name == 'swap')"
   ]
  },
  {
   "cell_type": "code",
   "execution_count": 10,
   "id": "b1454578",
   "metadata": {},
   "outputs": [
    {
     "name": "stdout",
     "output_type": "stream",
     "text": [
      "Qasm File: circuits_no_swaps/dnn_n51.qasm\n",
      "SWAPs: 6, Depth: 70, 2Q Depth: 65\n"
     ]
    }
   ],
   "source": [
    "swaps_count = count_swaps(qc_tr)\n",
    "depth       = qc_tr.depth()\n",
    "depth_2q    = qc_tr.depth(lambda x: x.operation.num_qubits == 2)\n",
    "\n",
    "print(f\"Qasm File: {qasm_file}\")\n",
    "print(f\"SWAPs: {swaps_count}, Depth: {depth}, 2Q Depth: {depth_2q}\")\n"
   ]
  },
  {
   "cell_type": "code",
   "execution_count": null,
   "id": "bd91df32",
   "metadata": {},
   "outputs": [],
   "source": []
  }
 ],
 "metadata": {
  "kernelspec": {
   "display_name": "sabre-benchmark",
   "language": "python",
   "name": "python3"
  },
  "language_info": {
   "codemirror_mode": {
    "name": "ipython",
    "version": 3
   },
   "file_extension": ".py",
   "mimetype": "text/x-python",
   "name": "python",
   "nbconvert_exporter": "python",
   "pygments_lexer": "ipython3",
   "version": "3.13.7"
  }
 },
 "nbformat": 4,
 "nbformat_minor": 5
}
